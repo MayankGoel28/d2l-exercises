{
  "nbformat": 4,
  "nbformat_minor": 0,
  "metadata": {
    "colab": {
      "provenance": [],
      "authorship_tag": "ABX9TyNcfUUCaeZbbggy8t0yQRzC",
      "include_colab_link": true
    },
    "kernelspec": {
      "name": "python3",
      "display_name": "Python 3"
    },
    "language_info": {
      "name": "python"
    }
  },
  "cells": [
    {
      "cell_type": "markdown",
      "metadata": {
        "id": "view-in-github",
        "colab_type": "text"
      },
      "source": [
        "<a href=\"https://colab.research.google.com/github/MayankGoel28/d2l-exercises/blob/main/2_3_linear_algebra.ipynb\" target=\"_parent\"><img src=\"https://colab.research.google.com/assets/colab-badge.svg\" alt=\"Open In Colab\"/></a>"
      ]
    },
    {
      "cell_type": "code",
      "execution_count": 1,
      "metadata": {
        "id": "K_TlfO7vczfT"
      },
      "outputs": [],
      "source": [
        "import torch"
      ]
    },
    {
      "cell_type": "markdown",
      "source": [
        "1. When we take a transpose of a matrix, every element $A_{ij}$ is changed to $A_{ji}$, so when we take the transpose again, $A_{ji}$ becomes $A_{ij}$. As every element in the matrix is the same as the original matrix, the two matrices are equivalent"
      ],
      "metadata": {
        "id": "wazC0JNNeNES"
      }
    },
    {
      "cell_type": "markdown",
      "source": [
        "2. For the LHS: Each element can be represented as $A_{ji} + B_{ji}$. \\\n",
        "    For the RHS: Each element is initially $A_{ij} + B_{ij}$, which let's say is equal to $C_{ij}$. Then after transposing, we get $C_{ji}$, which is originally equivalent to $A_{ji} + B_{ji}$, thus proving them same."
      ],
      "metadata": {
        "id": "YpNVl8tttS5V"
      }
    },
    {
      "cell_type": "markdown",
      "source": [
        "3. To prove, the matrix $A+A^T$ is equal to $(A+A^T)^T$ \\\n",
        "Using (1) - To calculate $(A^T)^T$ and (2), RHS becomes equal to $A^T + A$, and as addition of matrix is commutative, LHS = RHS\n"
      ],
      "metadata": {
        "id": "g2ZmSEbkbKLy"
      }
    },
    {
      "cell_type": "markdown",
      "source": [
        "4. Without writing code - the guess is 2."
      ],
      "metadata": {
        "id": "ssoyKtW4c4AF"
      }
    },
    {
      "cell_type": "code",
      "source": [
        "X = torch.arange(24).reshape(2, 3, 4)\n",
        "len(X)"
      ],
      "metadata": {
        "colab": {
          "base_uri": "https://localhost:8080/"
        },
        "id": "cMRbFv94e1u9",
        "outputId": "da97309c-b853-4a36-87d9-635c47889080"
      },
      "execution_count": 2,
      "outputs": [
        {
          "output_type": "execute_result",
          "data": {
            "text/plain": [
              "2"
            ]
          },
          "metadata": {},
          "execution_count": 2
        }
      ]
    },
    {
      "cell_type": "markdown",
      "source": [
        "5. Len(X) should always correspond to the 0th axis"
      ],
      "metadata": {
        "id": "AJ-hzOLve_y3"
      }
    },
    {
      "cell_type": "code",
      "source": [
        "len(X) == X.shape[0]"
      ],
      "metadata": {
        "colab": {
          "base_uri": "https://localhost:8080/"
        },
        "id": "GYTzZ7smfN0w",
        "outputId": "b3cf4cb6-d1e2-42cb-f889-fe3f19f781e8"
      },
      "execution_count": 3,
      "outputs": [
        {
          "output_type": "execute_result",
          "data": {
            "text/plain": [
              "True"
            ]
          },
          "metadata": {},
          "execution_count": 3
        }
      ]
    },
    {
      "cell_type": "markdown",
      "source": [
        "6."
      ],
      "metadata": {
        "id": "k5gcF8abfRSY"
      }
    },
    {
      "cell_type": "code",
      "source": [
        "A = torch.arange(6, dtype=torch.float32).reshape(2, 3)\n",
        "A"
      ],
      "metadata": {
        "colab": {
          "base_uri": "https://localhost:8080/"
        },
        "id": "nOZQR4DXfss3",
        "outputId": "f8b7f25a-8331-493f-b7e5-0a79ee7b7001"
      },
      "execution_count": 4,
      "outputs": [
        {
          "output_type": "execute_result",
          "data": {
            "text/plain": [
              "tensor([[0., 1., 2.],\n",
              "        [3., 4., 5.]])"
            ]
          },
          "metadata": {},
          "execution_count": 4
        }
      ]
    },
    {
      "cell_type": "markdown",
      "source": [
        "6."
      ],
      "metadata": {
        "id": "rY2-kYljpEsQ"
      }
    },
    {
      "cell_type": "code",
      "source": [
        "A / A.sum(axis=1, keepdim=True)"
      ],
      "metadata": {
        "colab": {
          "base_uri": "https://localhost:8080/"
        },
        "id": "-4PVCIcQftl7",
        "outputId": "954c87a5-97a2-48d4-fd68-27608195b0d9"
      },
      "execution_count": 5,
      "outputs": [
        {
          "output_type": "execute_result",
          "data": {
            "text/plain": [
              "tensor([[0.0000, 0.3333, 0.6667],\n",
              "        [0.2500, 0.3333, 0.4167]])"
            ]
          },
          "metadata": {},
          "execution_count": 5
        }
      ]
    },
    {
      "cell_type": "markdown",
      "source": [
        "7. The Manhattan distance between two points can be calculated by $|x_2 - x_1|+ |y_2 - y_1|$. You can't travel diagonally."
      ],
      "metadata": {
        "id": "C1UzCJpgfxoc"
      }
    },
    {
      "cell_type": "markdown",
      "source": [
        "8."
      ],
      "metadata": {
        "id": "eEsVhAt9pqJO"
      }
    },
    {
      "cell_type": "code",
      "source": [
        "X"
      ],
      "metadata": {
        "colab": {
          "base_uri": "https://localhost:8080/"
        },
        "id": "5py2tOEKpdhV",
        "outputId": "12d62aad-a3c3-4a8b-f7f5-802275849967"
      },
      "execution_count": 6,
      "outputs": [
        {
          "output_type": "execute_result",
          "data": {
            "text/plain": [
              "tensor([[[ 0,  1,  2,  3],\n",
              "         [ 4,  5,  6,  7],\n",
              "         [ 8,  9, 10, 11]],\n",
              "\n",
              "        [[12, 13, 14, 15],\n",
              "         [16, 17, 18, 19],\n",
              "         [20, 21, 22, 23]]])"
            ]
          },
          "metadata": {},
          "execution_count": 6
        }
      ]
    },
    {
      "cell_type": "code",
      "source": [
        "X.sum(axis=0).shape, X.sum(axis=1).shape, X.sum(axis=2).shape"
      ],
      "metadata": {
        "colab": {
          "base_uri": "https://localhost:8080/"
        },
        "id": "oOcMpTn5ppCW",
        "outputId": "28cbbf82-f3a2-4c41-fe3c-5f644bce2198"
      },
      "execution_count": 7,
      "outputs": [
        {
          "output_type": "execute_result",
          "data": {
            "text/plain": [
              "(torch.Size([3, 4]), torch.Size([2, 4]), torch.Size([2, 3]))"
            ]
          },
          "metadata": {},
          "execution_count": 7
        }
      ]
    },
    {
      "cell_type": "markdown",
      "source": [
        "9.\n",
        "\n"
      ],
      "metadata": {
        "id": "0GpnGD6TpxOx"
      }
    },
    {
      "cell_type": "code",
      "source": [
        "import numpy as np"
      ],
      "metadata": {
        "id": "Rnwe6UTqoEql"
      },
      "execution_count": 8,
      "outputs": []
    },
    {
      "cell_type": "code",
      "source": [
        "X = torch.arange(60).reshape(3, 4, 5)"
      ],
      "metadata": {
        "id": "IXeaEjmgpQbc"
      },
      "execution_count": 9,
      "outputs": []
    },
    {
      "cell_type": "code",
      "source": [
        "np.linalg.norm(X)"
      ],
      "metadata": {
        "colab": {
          "base_uri": "https://localhost:8080/"
        },
        "id": "9GUngeWepJ2t",
        "outputId": "a8f9ab3e-505b-4f6f-868d-f4b314641fef"
      },
      "execution_count": 10,
      "outputs": [
        {
          "output_type": "execute_result",
          "data": {
            "text/plain": [
              "264.9716966017314"
            ]
          },
          "metadata": {},
          "execution_count": 10
        }
      ]
    },
    {
      "cell_type": "markdown",
      "source": [
        "10. $(AB)C$ stores the intermediate result with dimensions $\\mathbb{R}^{2^{10} \\times 2^5}$, whereas $A(BC)$ stores the intermediate with dimensions $\\mathbb{R}^{2^{16} \\times 2^{14}}$. Thus, a larger intemediate result is stored in the latter, and this affects the memory footprint, as well as speed."
      ],
      "metadata": {
        "id": "X_rihzsPpMdm"
      }
    },
    {
      "cell_type": "markdown",
      "source": [
        "11. Pytorch treats $C^T$ as a view rather than by assigning new memory. Thus, there are no differences between calculating $AB$ and $AC^T$. However cloning does take up extra space."
      ],
      "metadata": {
        "id": "d1Lf1KYzrEB4"
      }
    },
    {
      "cell_type": "code",
      "source": [
        "A = torch.rand(100, 200)\n",
        "B = torch.rand(100, 200)\n",
        "C = torch.rand(100, 200)"
      ],
      "metadata": {
        "id": "SYyC2FNVr2hz"
      },
      "execution_count": 11,
      "outputs": []
    },
    {
      "cell_type": "code",
      "source": [
        "X = torch.stack((A, B, C), dim=0)"
      ],
      "metadata": {
        "id": "RnZd29QHr-hu"
      },
      "execution_count": 12,
      "outputs": []
    },
    {
      "cell_type": "code",
      "source": [
        "X.shape"
      ],
      "metadata": {
        "colab": {
          "base_uri": "https://localhost:8080/"
        },
        "id": "GYf9qldqsCPl",
        "outputId": "5810b461-174b-4149-9e13-9f160c94bb7a"
      },
      "execution_count": 13,
      "outputs": [
        {
          "output_type": "execute_result",
          "data": {
            "text/plain": [
              "torch.Size([3, 100, 200])"
            ]
          },
          "metadata": {},
          "execution_count": 13
        }
      ]
    },
    {
      "cell_type": "code",
      "source": [
        "B_2 = X[1, :, :]"
      ],
      "metadata": {
        "id": "JX_Bi4CBsJCP"
      },
      "execution_count": 14,
      "outputs": []
    },
    {
      "cell_type": "code",
      "source": [
        "B_2 == B"
      ],
      "metadata": {
        "colab": {
          "base_uri": "https://localhost:8080/"
        },
        "id": "QUmrjgMKsgbu",
        "outputId": "288867db-1e55-4b07-82a5-5689e7b0fad6"
      },
      "execution_count": 15,
      "outputs": [
        {
          "output_type": "execute_result",
          "data": {
            "text/plain": [
              "tensor([[True, True, True,  ..., True, True, True],\n",
              "        [True, True, True,  ..., True, True, True],\n",
              "        [True, True, True,  ..., True, True, True],\n",
              "        ...,\n",
              "        [True, True, True,  ..., True, True, True],\n",
              "        [True, True, True,  ..., True, True, True],\n",
              "        [True, True, True,  ..., True, True, True]])"
            ]
          },
          "metadata": {},
          "execution_count": 15
        }
      ]
    }
  ]
}
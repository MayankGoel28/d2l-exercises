{
  "nbformat": 4,
  "nbformat_minor": 0,
  "metadata": {
    "colab": {
      "provenance": [],
      "authorship_tag": "ABX9TyO/CLkVLAu19vXMo7Grwf/N",
      "include_colab_link": true
    },
    "kernelspec": {
      "name": "python3",
      "display_name": "Python 3"
    },
    "language_info": {
      "name": "python"
    }
  },
  "cells": [
    {
      "cell_type": "markdown",
      "metadata": {
        "id": "view-in-github",
        "colab_type": "text"
      },
      "source": [
        "<a href=\"https://colab.research.google.com/github/MayankGoel28/d2l-exercises/blob/main/1_Introduction.ipynb\" target=\"_parent\"><img src=\"https://colab.research.google.com/assets/colab-badge.svg\" alt=\"Open In Colab\"/></a>"
      ]
    },
    {
      "cell_type": "markdown",
      "source": [
        "1. In 2025, so much of the code I write can be automated, but larger scale design decisions, the more abstract we get with our requirements, the more human intervention becomes useful."
      ],
      "metadata": {
        "id": "xye8HtsWxJQK"
      }
    },
    {
      "cell_type": "markdown",
      "source": [
        "2. Self-driving cars can be one, although the data is not plenty, it can easily be harvested."
      ],
      "metadata": {
        "id": "-yUCEzYLxXsK"
      }
    },
    {
      "cell_type": "markdown",
      "source": [
        "3. Algorithms use data and compute to solve problems. Data is currently a main blocker, while compute is increasing tremendously. In general, more complicated algorithms need more data, and compute becomes directly relevant with feasibility of time."
      ],
      "metadata": {
        "id": "1wWDsZwHxgCm"
      }
    },
    {
      "cell_type": "markdown",
      "source": [
        "4. Self-driving cars seem relevant for this."
      ],
      "metadata": {
        "id": "M1KIhITPxuGq"
      }
    }
  ]
}
